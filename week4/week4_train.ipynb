{
 "cells": [
  {
   "cell_type": "markdown",
   "id": "e4946660",
   "metadata": {},
   "source": [
    "### Natural Language Processing with Disaster Tweets\n",
    "This kaggle competition focuses on leveraging Twitter as a critical communication channel during emergencies. With the widespread use of smartphones, people are increasingly sharing real-time observations of disasters. This presents a valuable opportunity for organizations like disaster relief and news agencies to programmatically monitor Twitter for crucial information. However, the core challenge lies in accurately identifying tweets that genuinely announce a disaster amidst the vast amount of less relevant information."
   ]
  },
  {
   "cell_type": "code",
   "execution_count": 11,
   "id": "6acc9a8c",
   "metadata": {},
   "outputs": [],
   "source": [
    "import os\n",
    "os.environ['TF_USE_LEGACY_KERAS']='1'\n",
    "import pandas as pd\n",
    "import numpy as np\n",
    "import re\n",
    "import matplotlib.pyplot as plt\n",
    "from sklearn.metrics import confusion_matrix, accuracy_score, f1_score\n",
    "import tensorflow as tf\n",
    "import tensorflow_hub as hub\n",
    "import tensorflow_text\n",
    "from official.nlp import optimization"
   ]
  },
  {
   "cell_type": "markdown",
   "id": "37d76f63",
   "metadata": {},
   "source": [
    "Available data contains columns keyword, location, tweet text and boolean label indicating whether the tweet is about a disaster or not. There are total 7613 tweets"
   ]
  },
  {
   "cell_type": "code",
   "execution_count": 12,
   "id": "0d66b873",
   "metadata": {},
   "outputs": [
    {
     "data": {
      "text/plain": [
       "(7613, 5)"
      ]
     },
     "execution_count": 12,
     "metadata": {},
     "output_type": "execute_result"
    }
   ],
   "source": [
    "raw_data = pd.read_csv(\"data/train.csv\")\n",
    "raw_data.shape"
   ]
  },
  {
   "cell_type": "code",
   "execution_count": 13,
   "id": "57e4c9fe",
   "metadata": {},
   "outputs": [
    {
     "data": {
      "text/html": [
       "<div>\n",
       "<style scoped>\n",
       "    .dataframe tbody tr th:only-of-type {\n",
       "        vertical-align: middle;\n",
       "    }\n",
       "\n",
       "    .dataframe tbody tr th {\n",
       "        vertical-align: top;\n",
       "    }\n",
       "\n",
       "    .dataframe thead th {\n",
       "        text-align: right;\n",
       "    }\n",
       "</style>\n",
       "<table border=\"1\" class=\"dataframe\">\n",
       "  <thead>\n",
       "    <tr style=\"text-align: right;\">\n",
       "      <th></th>\n",
       "      <th>id</th>\n",
       "      <th>keyword</th>\n",
       "      <th>location</th>\n",
       "      <th>text</th>\n",
       "      <th>target</th>\n",
       "    </tr>\n",
       "  </thead>\n",
       "  <tbody>\n",
       "    <tr>\n",
       "      <th>0</th>\n",
       "      <td>1</td>\n",
       "      <td>NaN</td>\n",
       "      <td>NaN</td>\n",
       "      <td>Our Deeds are the Reason of this #earthquake M...</td>\n",
       "      <td>1</td>\n",
       "    </tr>\n",
       "    <tr>\n",
       "      <th>1</th>\n",
       "      <td>4</td>\n",
       "      <td>NaN</td>\n",
       "      <td>NaN</td>\n",
       "      <td>Forest fire near La Ronge Sask. Canada</td>\n",
       "      <td>1</td>\n",
       "    </tr>\n",
       "    <tr>\n",
       "      <th>2</th>\n",
       "      <td>5</td>\n",
       "      <td>NaN</td>\n",
       "      <td>NaN</td>\n",
       "      <td>All residents asked to 'shelter in place' are ...</td>\n",
       "      <td>1</td>\n",
       "    </tr>\n",
       "    <tr>\n",
       "      <th>3</th>\n",
       "      <td>6</td>\n",
       "      <td>NaN</td>\n",
       "      <td>NaN</td>\n",
       "      <td>13,000 people receive #wildfires evacuation or...</td>\n",
       "      <td>1</td>\n",
       "    </tr>\n",
       "    <tr>\n",
       "      <th>4</th>\n",
       "      <td>7</td>\n",
       "      <td>NaN</td>\n",
       "      <td>NaN</td>\n",
       "      <td>Just got sent this photo from Ruby #Alaska as ...</td>\n",
       "      <td>1</td>\n",
       "    </tr>\n",
       "  </tbody>\n",
       "</table>\n",
       "</div>"
      ],
      "text/plain": [
       "   id keyword location                                               text  \\\n",
       "0   1     NaN      NaN  Our Deeds are the Reason of this #earthquake M...   \n",
       "1   4     NaN      NaN             Forest fire near La Ronge Sask. Canada   \n",
       "2   5     NaN      NaN  All residents asked to 'shelter in place' are ...   \n",
       "3   6     NaN      NaN  13,000 people receive #wildfires evacuation or...   \n",
       "4   7     NaN      NaN  Just got sent this photo from Ruby #Alaska as ...   \n",
       "\n",
       "   target  \n",
       "0       1  \n",
       "1       1  \n",
       "2       1  \n",
       "3       1  \n",
       "4       1  "
      ]
     },
     "execution_count": 13,
     "metadata": {},
     "output_type": "execute_result"
    }
   ],
   "source": [
    "raw_data.head()"
   ]
  },
  {
   "cell_type": "markdown",
   "id": "2610fcce",
   "metadata": {},
   "source": [
    "#### Exploratory Data Analysis\n",
    "Location column has 33% missing data while column keyword has 0.80% missing data.<br>\n",
    "I have not considered these two columns in classification."
   ]
  },
  {
   "cell_type": "code",
   "execution_count": 14,
   "id": "e25fc364",
   "metadata": {},
   "outputs": [
    {
     "data": {
      "text/plain": [
       "id           0.000000\n",
       "keyword      0.801261\n",
       "location    33.272035\n",
       "text         0.000000\n",
       "target       0.000000\n",
       "dtype: float64"
      ]
     },
     "execution_count": 14,
     "metadata": {},
     "output_type": "execute_result"
    }
   ],
   "source": [
    "raw_data.isna().sum()*100/raw_data.shape[0]"
   ]
  },
  {
   "cell_type": "markdown",
   "id": "70834e0e",
   "metadata": {},
   "source": [
    "##### Potential cleaning strategies\n",
    "- removing hyperlinks\n",
    "- removing \"#\""
   ]
  },
  {
   "cell_type": "code",
   "execution_count": 24,
   "id": "f39f1e35",
   "metadata": {},
   "outputs": [],
   "source": [
    "## any pre-processing like removing hyperlinks\n",
    "def remove_links_from_list(text_list: list[str]) -> list[str]:\n",
    "    \"\"\"\n",
    "    Removes HTTP/HTTPS links from each string in a list of text.\n",
    "\n",
    "    Args:\n",
    "        text_list (list[str]): The input list of strings.\n",
    "\n",
    "    Returns:\n",
    "        list[str]: A new list of strings with the links removed.\n",
    "                   The original list remains unchanged.\n",
    "    \"\"\"\n",
    "    # Define the regular expression to find HTTP or HTTPS links.\n",
    "    # This regex looks for:\n",
    "    # (https?:\\/\\/) - 'http' or 'https' followed by :// (s? makes 's' optional)\n",
    "    # (www\\.)? - optional 'www.'\n",
    "    # ([^\\s]+) - one or more characters that are not whitespace (greedy match for the URL path)\n",
    "    url_pattern = re.compile(r'https?://(?:www\\.)?[^\\s]+')\n",
    "\n",
    "    cleaned_list = []\n",
    "    for text in text_list:\n",
    "        if text is None:\n",
    "            cleaned_list.append(None) # Preserve None values if they exist\n",
    "            continue\n",
    "        # Convert to string to handle potential non-string types, then apply regex\n",
    "        cleaned_text = url_pattern.sub('', str(text)).strip()\n",
    "        cleaned_list.append(cleaned_text)\n",
    "\n",
    "    return cleaned_list\n",
    "\n",
    "def remove_hashtag_from_list(text_list: list[str]) -> list[str]:\n",
    "    cleaned_list = []\n",
    "    for text in text_list:\n",
    "        cleaned_list.append(text.replace(\"#\", \"\"))\n",
    "    return cleaned_list\n",
    "\n",
    "def remove_at_from_list(text_list: list[str]) -> list[str]:\n",
    "    cleaned_list = []\n",
    "    for text in text_list:\n",
    "        cleaned_list.append(text.replace(\"@\", \"\"))\n",
    "    return cleaned_list\n"
   ]
  },
  {
   "cell_type": "markdown",
   "id": "ae18094b",
   "metadata": {},
   "source": [
    "#### Preparing training data"
   ]
  },
  {
   "cell_type": "code",
   "execution_count": 26,
   "id": "dd525389",
   "metadata": {},
   "outputs": [],
   "source": [
    "X = remove_links_from_list(list(raw_data[\"text\"]))\n",
    "X = remove_hashtag_from_list(X)\n",
    "X = remove_at_from_list(X)\n",
    "X = np.array(X)\n",
    "y = np.array(raw_data[\"target\"])"
   ]
  },
  {
   "cell_type": "markdown",
   "id": "5a90347a",
   "metadata": {},
   "source": [
    "#### Choosing pretrained model\n",
    "I have used `bert uncased L-4_H-512_A-8/1` in this notebook as I can train it locally, however, `electra_base` has performed slightly better during training with kaggle gpu."
   ]
  },
  {
   "cell_type": "code",
   "execution_count": 27,
   "id": "f5dcbe02",
   "metadata": {},
   "outputs": [
    {
     "name": "stdout",
     "output_type": "stream",
     "text": [
      "BERT model selected           : https://tfhub.dev/tensorflow/small_bert/bert_en_uncased_L-4_H-512_A-8/1\n",
      "Preprocess model auto-selected: https://tfhub.dev/tensorflow/bert_en_uncased_preprocess/3\n",
      "[PhysicalDevice(name='/physical_device:GPU:0', device_type='GPU')]\n"
     ]
    }
   ],
   "source": [
    "map_name_to_handle = {\n",
    "    'bert_en_uncased_L-12_H-768_A-12':\n",
    "        'https://tfhub.dev/tensorflow/bert_en_uncased_L-12_H-768_A-12/3',\n",
    "    'bert_en_cased_L-12_H-768_A-12':\n",
    "        'https://tfhub.dev/tensorflow/bert_en_cased_L-12_H-768_A-12/3',\n",
    "    'bert_multi_cased_L-12_H-768_A-12':\n",
    "        'https://tfhub.dev/tensorflow/bert_multi_cased_L-12_H-768_A-12/3',\n",
    "    'small_bert/bert_en_uncased_L-2_H-128_A-2':\n",
    "        'https://tfhub.dev/tensorflow/small_bert/bert_en_uncased_L-2_H-128_A-2/1',\n",
    "    'small_bert/bert_en_uncased_L-2_H-256_A-4':\n",
    "        'https://tfhub.dev/tensorflow/small_bert/bert_en_uncased_L-2_H-256_A-4/1',\n",
    "    'small_bert/bert_en_uncased_L-2_H-512_A-8':\n",
    "        'https://tfhub.dev/tensorflow/small_bert/bert_en_uncased_L-2_H-512_A-8/1',\n",
    "    'small_bert/bert_en_uncased_L-2_H-768_A-12':\n",
    "        'https://tfhub.dev/tensorflow/small_bert/bert_en_uncased_L-2_H-768_A-12/1',\n",
    "    'small_bert/bert_en_uncased_L-4_H-128_A-2':\n",
    "        'https://tfhub.dev/tensorflow/small_bert/bert_en_uncased_L-4_H-128_A-2/1',\n",
    "    'small_bert/bert_en_uncased_L-4_H-256_A-4':\n",
    "        'https://tfhub.dev/tensorflow/small_bert/bert_en_uncased_L-4_H-256_A-4/1',\n",
    "    'small_bert/bert_en_uncased_L-4_H-512_A-8':\n",
    "        'https://tfhub.dev/tensorflow/small_bert/bert_en_uncased_L-4_H-512_A-8/1',\n",
    "    'small_bert/bert_en_uncased_L-4_H-768_A-12':\n",
    "        'https://tfhub.dev/tensorflow/small_bert/bert_en_uncased_L-4_H-768_A-12/1',\n",
    "    'small_bert/bert_en_uncased_L-6_H-128_A-2':\n",
    "        'https://tfhub.dev/tensorflow/small_bert/bert_en_uncased_L-6_H-128_A-2/1',\n",
    "    'small_bert/bert_en_uncased_L-6_H-256_A-4':\n",
    "        'https://tfhub.dev/tensorflow/small_bert/bert_en_uncased_L-6_H-256_A-4/1',\n",
    "    'small_bert/bert_en_uncased_L-6_H-512_A-8':\n",
    "        'https://tfhub.dev/tensorflow/small_bert/bert_en_uncased_L-6_H-512_A-8/1',\n",
    "    'small_bert/bert_en_uncased_L-6_H-768_A-12':\n",
    "        'https://tfhub.dev/tensorflow/small_bert/bert_en_uncased_L-6_H-768_A-12/1',\n",
    "    'small_bert/bert_en_uncased_L-8_H-128_A-2':\n",
    "        'https://tfhub.dev/tensorflow/small_bert/bert_en_uncased_L-8_H-128_A-2/1',\n",
    "    'small_bert/bert_en_uncased_L-8_H-256_A-4':\n",
    "        'https://tfhub.dev/tensorflow/small_bert/bert_en_uncased_L-8_H-256_A-4/1',\n",
    "    'small_bert/bert_en_uncased_L-8_H-512_A-8':\n",
    "        'https://tfhub.dev/tensorflow/small_bert/bert_en_uncased_L-8_H-512_A-8/1',\n",
    "    'small_bert/bert_en_uncased_L-8_H-768_A-12':\n",
    "        'https://tfhub.dev/tensorflow/small_bert/bert_en_uncased_L-8_H-768_A-12/1',\n",
    "    'small_bert/bert_en_uncased_L-10_H-128_A-2':\n",
    "        'https://tfhub.dev/tensorflow/small_bert/bert_en_uncased_L-10_H-128_A-2/1',\n",
    "    'small_bert/bert_en_uncased_L-10_H-256_A-4':\n",
    "        'https://tfhub.dev/tensorflow/small_bert/bert_en_uncased_L-10_H-256_A-4/1',\n",
    "    'small_bert/bert_en_uncased_L-10_H-512_A-8':\n",
    "        'https://tfhub.dev/tensorflow/small_bert/bert_en_uncased_L-10_H-512_A-8/1',\n",
    "    'small_bert/bert_en_uncased_L-10_H-768_A-12':\n",
    "        'https://tfhub.dev/tensorflow/small_bert/bert_en_uncased_L-10_H-768_A-12/1',\n",
    "    'small_bert/bert_en_uncased_L-12_H-128_A-2':\n",
    "        'https://tfhub.dev/tensorflow/small_bert/bert_en_uncased_L-12_H-128_A-2/1',\n",
    "    'small_bert/bert_en_uncased_L-12_H-256_A-4':\n",
    "        'https://tfhub.dev/tensorflow/small_bert/bert_en_uncased_L-12_H-256_A-4/1',\n",
    "    'small_bert/bert_en_uncased_L-12_H-512_A-8':\n",
    "        'https://tfhub.dev/tensorflow/small_bert/bert_en_uncased_L-12_H-512_A-8/1',\n",
    "    'small_bert/bert_en_uncased_L-12_H-768_A-12':\n",
    "        'https://tfhub.dev/tensorflow/small_bert/bert_en_uncased_L-12_H-768_A-12/1',\n",
    "    'albert_en_base':\n",
    "        'https://tfhub.dev/tensorflow/albert_en_base/2',\n",
    "    'electra_small':\n",
    "        'https://tfhub.dev/google/electra_small/2',\n",
    "    'electra_base':\n",
    "        'https://tfhub.dev/google/electra_base/2',\n",
    "    'experts_pubmed':\n",
    "        'https://tfhub.dev/google/experts/bert/pubmed/2',\n",
    "    'experts_wiki_books':\n",
    "        'https://tfhub.dev/google/experts/bert/wiki_books/2',\n",
    "    'talking-heads_base':\n",
    "        'https://tfhub.dev/tensorflow/talkheads_ggelu_bert_en_base/1',\n",
    "}\n",
    "\n",
    "map_model_to_preprocess = {\n",
    "    'bert_en_uncased_L-12_H-768_A-12':\n",
    "        'https://tfhub.dev/tensorflow/bert_en_uncased_preprocess/3',\n",
    "    'bert_en_cased_L-12_H-768_A-12':\n",
    "        'https://tfhub.dev/tensorflow/bert_en_cased_preprocess/3',\n",
    "    'small_bert/bert_en_uncased_L-2_H-128_A-2':\n",
    "        'https://tfhub.dev/tensorflow/bert_en_uncased_preprocess/3',\n",
    "    'small_bert/bert_en_uncased_L-2_H-256_A-4':\n",
    "        'https://tfhub.dev/tensorflow/bert_en_uncased_preprocess/3',\n",
    "    'small_bert/bert_en_uncased_L-2_H-512_A-8':\n",
    "        'https://tfhub.dev/tensorflow/bert_en_uncased_preprocess/3',\n",
    "    'small_bert/bert_en_uncased_L-2_H-768_A-12':\n",
    "        'https://tfhub.dev/tensorflow/bert_en_uncased_preprocess/3',\n",
    "    'small_bert/bert_en_uncased_L-4_H-128_A-2':\n",
    "        'https://tfhub.dev/tensorflow/bert_en_uncased_preprocess/3',\n",
    "    'small_bert/bert_en_uncased_L-4_H-256_A-4':\n",
    "        'https://tfhub.dev/tensorflow/bert_en_uncased_preprocess/3',\n",
    "    'small_bert/bert_en_uncased_L-4_H-512_A-8':\n",
    "        'https://tfhub.dev/tensorflow/bert_en_uncased_preprocess/3',\n",
    "    'small_bert/bert_en_uncased_L-4_H-768_A-12':\n",
    "        'https://tfhub.dev/tensorflow/bert_en_uncased_preprocess/3',\n",
    "    'small_bert/bert_en_uncased_L-6_H-128_A-2':\n",
    "        'https://tfhub.dev/tensorflow/bert_en_uncased_preprocess/3',\n",
    "    'small_bert/bert_en_uncased_L-6_H-256_A-4':\n",
    "        'https://tfhub.dev/tensorflow/bert_en_uncased_preprocess/3',\n",
    "    'small_bert/bert_en_uncased_L-6_H-512_A-8':\n",
    "        'https://tfhub.dev/tensorflow/bert_en_uncased_preprocess/3',\n",
    "    'small_bert/bert_en_uncased_L-6_H-768_A-12':\n",
    "        'https://tfhub.dev/tensorflow/bert_en_uncased_preprocess/3',\n",
    "    'small_bert/bert_en_uncased_L-8_H-128_A-2':\n",
    "        'https://tfhub.dev/tensorflow/bert_en_uncased_preprocess/3',\n",
    "    'small_bert/bert_en_uncased_L-8_H-256_A-4':\n",
    "        'https://tfhub.dev/tensorflow/bert_en_uncased_preprocess/3',\n",
    "    'small_bert/bert_en_uncased_L-8_H-512_A-8':\n",
    "        'https://tfhub.dev/tensorflow/bert_en_uncased_preprocess/3',\n",
    "    'small_bert/bert_en_uncased_L-8_H-768_A-12':\n",
    "        'https://tfhub.dev/tensorflow/bert_en_uncased_preprocess/3',\n",
    "    'small_bert/bert_en_uncased_L-10_H-128_A-2':\n",
    "        'https://tfhub.dev/tensorflow/bert_en_uncased_preprocess/3',\n",
    "    'small_bert/bert_en_uncased_L-10_H-256_A-4':\n",
    "        'https://tfhub.dev/tensorflow/bert_en_uncased_preprocess/3',\n",
    "    'small_bert/bert_en_uncased_L-10_H-512_A-8':\n",
    "        'https://tfhub.dev/tensorflow/bert_en_uncased_preprocess/3',\n",
    "    'small_bert/bert_en_uncased_L-10_H-768_A-12':\n",
    "        'https://tfhub.dev/tensorflow/bert_en_uncased_preprocess/3',\n",
    "    'small_bert/bert_en_uncased_L-12_H-128_A-2':\n",
    "        'https://tfhub.dev/tensorflow/bert_en_uncased_preprocess/3',\n",
    "    'small_bert/bert_en_uncased_L-12_H-256_A-4':\n",
    "        'https://tfhub.dev/tensorflow/bert_en_uncased_preprocess/3',\n",
    "    'small_bert/bert_en_uncased_L-12_H-512_A-8':\n",
    "        'https://tfhub.dev/tensorflow/bert_en_uncased_preprocess/3',\n",
    "    'small_bert/bert_en_uncased_L-12_H-768_A-12':\n",
    "        'https://tfhub.dev/tensorflow/bert_en_uncased_preprocess/3',\n",
    "    'bert_multi_cased_L-12_H-768_A-12':\n",
    "        'https://tfhub.dev/tensorflow/bert_multi_cased_preprocess/3',\n",
    "    'albert_en_base':\n",
    "        'https://tfhub.dev/tensorflow/albert_en_preprocess/3',\n",
    "    'electra_small':\n",
    "        'https://tfhub.dev/tensorflow/bert_en_uncased_preprocess/3',\n",
    "    'electra_base':\n",
    "        'https://tfhub.dev/tensorflow/bert_en_uncased_preprocess/3',\n",
    "    'experts_pubmed':\n",
    "        'https://tfhub.dev/tensorflow/bert_en_uncased_preprocess/3',\n",
    "    'experts_wiki_books':\n",
    "        'https://tfhub.dev/tensorflow/bert_en_uncased_preprocess/3',\n",
    "    'talking-heads_base':\n",
    "        'https://tfhub.dev/tensorflow/bert_en_uncased_preprocess/3',\n",
    "}\n",
    "\n",
    "bert_model_name = 'small_bert/bert_en_uncased_L-4_H-512_A-8'\n",
    "tfhub_handle_encoder = map_name_to_handle[bert_model_name]\n",
    "tfhub_handle_preprocess = map_model_to_preprocess[bert_model_name]\n",
    "bert_preprocess_model = hub.KerasLayer(tfhub_handle_preprocess)\n",
    "\n",
    "print(f'BERT model selected           : {tfhub_handle_encoder}')\n",
    "print(f'Preprocess model auto-selected: {tfhub_handle_preprocess}')\n",
    "print(tf.config.list_physical_devices('GPU'))"
   ]
  },
  {
   "cell_type": "code",
   "execution_count": 28,
   "id": "f25545f0",
   "metadata": {},
   "outputs": [],
   "source": [
    "def build_classifier_model():\n",
    "  text_input = tf.keras.layers.Input(shape=(), dtype=tf.string, name='text')\n",
    "  preprocessing_layer = hub.KerasLayer(tfhub_handle_preprocess, name='preprocessing')\n",
    "  encoder_inputs = preprocessing_layer(text_input)\n",
    "  encoder = hub.KerasLayer(tfhub_handle_encoder, trainable=True, name='BERT_encoder')\n",
    "  outputs = encoder(encoder_inputs)\n",
    "  net = outputs['pooled_output']\n",
    "\n",
    "  ## place for hidden layers, if any\n",
    "\n",
    "  net = tf.keras.layers.Dropout(0.2)(net)\n",
    "  net = tf.keras.layers.Dense(1, activation=tf.keras.activations.sigmoid, name='classifier')(net)\n",
    "  return tf.keras.Model(text_input, net)"
   ]
  },
  {
   "cell_type": "code",
   "execution_count": 29,
   "id": "e8d07aaa",
   "metadata": {},
   "outputs": [],
   "source": [
    "epochs = 10\n",
    "steps_per_epoch = 50\n",
    "init_lr = 3e-5\n",
    "\n",
    "num_train_steps = steps_per_epoch * epochs\n",
    "num_warmup_steps = int(0.1*num_train_steps)\n",
    "\n",
    "loss = tf.keras.losses.BinaryCrossentropy(from_logits=False)\n",
    "metrics = [tf.metrics.BinaryAccuracy()]\n",
    "early_stop_callback = tf.keras.callbacks.EarlyStopping(monitor='val_loss',\n",
    "                                              patience=2)\n",
    "\n",
    "optimizer = optimization.create_optimizer(init_lr=init_lr,\n",
    "                                          num_train_steps=num_train_steps,\n",
    "                                          num_warmup_steps=num_warmup_steps,\n",
    "                                          optimizer_type='adamw')\n",
    "classifier_model = build_classifier_model()\n",
    "\n",
    "classifier_model.compile(optimizer=optimizer,\n",
    "                         loss=loss,\n",
    "                         metrics=metrics)"
   ]
  },
  {
   "attachments": {
    "model.png": {
     "image/png": "[encoded data removed]"
    }
   },
   "cell_type": "markdown",
   "id": "4e8a04c8",
   "metadata": {},
   "source": [
    "#### Model Architecture\n",
    "I have used a pretrained BERT followed by a single neuron as output with sigmoid activation function.<br>\n",
    "There are many variations of BERT, however i opted for electra_base which performed well for this classification task. electra_base has 12 layers, 768 dimensions with 110M parameters.\n",
    "\n",
    "Model architecture:-\n",
    "\n",
    "![model.png](attachment:model.png)\n",
    "\n",
    "electra_base: https://github.com/google-research/electra"
   ]
  },
  {
   "cell_type": "markdown",
   "id": "2350752f",
   "metadata": {},
   "source": [
    "### Fine tuning pretrained model"
   ]
  },
  {
   "cell_type": "code",
   "execution_count": 30,
   "id": "b430fe21",
   "metadata": {},
   "outputs": [
    {
     "name": "stdout",
     "output_type": "stream",
     "text": [
      "Training model with https://tfhub.dev/tensorflow/small_bert/bert_en_uncased_L-4_H-512_A-8/1\n",
      "Epoch 1/10\n",
      "191/191 [==============================] - 95s 460ms/step - loss: 0.5211 - binary_accuracy: 0.7470 - val_loss: 0.4175 - val_binary_accuracy: 0.8056\n",
      "Epoch 2/10\n",
      "191/191 [==============================] - 88s 462ms/step - loss: 0.3832 - binary_accuracy: 0.8383 - val_loss: 0.4007 - val_binary_accuracy: 0.8214\n",
      "Epoch 3/10\n",
      "191/191 [==============================] - 89s 468ms/step - loss: 0.3390 - binary_accuracy: 0.8614 - val_loss: 0.4083 - val_binary_accuracy: 0.8221\n",
      "Epoch 4/10\n",
      "191/191 [==============================] - 89s 468ms/step - loss: 0.3295 - binary_accuracy: 0.8650 - val_loss: 0.4083 - val_binary_accuracy: 0.8221\n"
     ]
    }
   ],
   "source": [
    "print(f'Training model with {tfhub_handle_encoder}')\n",
    "history = classifier_model.fit(x = X, y = y, validation_split=0.2, epochs=epochs, callbacks=[early_stop_callback])"
   ]
  },
  {
   "cell_type": "markdown",
   "id": "0689b668",
   "metadata": {},
   "source": [
    "##### Training and validation loss wrt epochs"
   ]
  },
  {
   "cell_type": "code",
   "execution_count": 31,
   "id": "d7048482",
   "metadata": {},
   "outputs": [
    {
     "data": {
      "image/png": "[encoded data removed]",
      "text/plain": [
       "<Figure size 640x480 with 1 Axes>"
      ]
     },
     "metadata": {},
     "output_type": "display_data"
    }
   ],
   "source": [
    "plt.plot(history.history['loss'])\n",
    "plt.plot(history.history['val_loss'])\n",
    "plt.title('model loss')\n",
    "plt.ylabel('loss')\n",
    "plt.xlabel('epoch')\n",
    "plt.legend(['train', 'val'], loc='upper left')\n",
    "plt.show()"
   ]
  },
  {
   "cell_type": "markdown",
   "id": "97e11e80",
   "metadata": {},
   "source": [
    "##### Experimenting with threshold"
   ]
  },
  {
   "cell_type": "code",
   "execution_count": 32,
   "id": "a7d2b66e",
   "metadata": {},
   "outputs": [
    {
     "name": "stdout",
     "output_type": "stream",
     "text": [
      "238/238 [==============================] - 40s 168ms/step\n"
     ]
    }
   ],
   "source": [
    "y_pred = classifier_model.predict(X)"
   ]
  },
  {
   "cell_type": "code",
   "execution_count": 33,
   "id": "912c23d4",
   "metadata": {},
   "outputs": [
    {
     "data": {
      "text/html": [
       "<div>\n",
       "<style scoped>\n",
       "    .dataframe tbody tr th:only-of-type {\n",
       "        vertical-align: middle;\n",
       "    }\n",
       "\n",
       "    .dataframe tbody tr th {\n",
       "        vertical-align: top;\n",
       "    }\n",
       "\n",
       "    .dataframe thead th {\n",
       "        text-align: right;\n",
       "    }\n",
       "</style>\n",
       "<table border=\"1\" class=\"dataframe\">\n",
       "  <thead>\n",
       "    <tr style=\"text-align: right;\">\n",
       "      <th></th>\n",
       "      <th>threshold</th>\n",
       "      <th>f1</th>\n",
       "      <th>accuracy</th>\n",
       "    </tr>\n",
       "  </thead>\n",
       "  <tbody>\n",
       "    <tr>\n",
       "      <th>0</th>\n",
       "      <td>0.1</td>\n",
       "      <td>0.747300</td>\n",
       "      <td>0.720347</td>\n",
       "    </tr>\n",
       "    <tr>\n",
       "      <th>1</th>\n",
       "      <td>0.2</td>\n",
       "      <td>0.805414</td>\n",
       "      <td>0.809274</td>\n",
       "    </tr>\n",
       "    <tr>\n",
       "      <th>2</th>\n",
       "      <td>0.3</td>\n",
       "      <td>0.826701</td>\n",
       "      <td>0.842112</td>\n",
       "    </tr>\n",
       "    <tr>\n",
       "      <th>3</th>\n",
       "      <td>0.4</td>\n",
       "      <td>0.841200</td>\n",
       "      <td>0.861684</td>\n",
       "    </tr>\n",
       "    <tr>\n",
       "      <th>4</th>\n",
       "      <td>0.5</td>\n",
       "      <td>0.842319</td>\n",
       "      <td>0.867464</td>\n",
       "    </tr>\n",
       "    <tr>\n",
       "      <th>5</th>\n",
       "      <td>0.6</td>\n",
       "      <td>0.840323</td>\n",
       "      <td>0.869959</td>\n",
       "    </tr>\n",
       "    <tr>\n",
       "      <th>6</th>\n",
       "      <td>0.7</td>\n",
       "      <td>0.833916</td>\n",
       "      <td>0.869040</td>\n",
       "    </tr>\n",
       "    <tr>\n",
       "      <th>7</th>\n",
       "      <td>0.8</td>\n",
       "      <td>0.812262</td>\n",
       "      <td>0.857612</td>\n",
       "    </tr>\n",
       "    <tr>\n",
       "      <th>8</th>\n",
       "      <td>0.9</td>\n",
       "      <td>0.767305</td>\n",
       "      <td>0.833968</td>\n",
       "    </tr>\n",
       "  </tbody>\n",
       "</table>\n",
       "</div>"
      ],
      "text/plain": [
       "   threshold        f1  accuracy\n",
       "0        0.1  0.747300  0.720347\n",
       "1        0.2  0.805414  0.809274\n",
       "2        0.3  0.826701  0.842112\n",
       "3        0.4  0.841200  0.861684\n",
       "4        0.5  0.842319  0.867464\n",
       "5        0.6  0.840323  0.869959\n",
       "6        0.7  0.833916  0.869040\n",
       "7        0.8  0.812262  0.857612\n",
       "8        0.9  0.767305  0.833968"
      ]
     },
     "execution_count": 33,
     "metadata": {},
     "output_type": "execute_result"
    }
   ],
   "source": [
    "threshold_list = [0.10, 0.20, 0.30, 0.40, 0.50, 0.60, 0.70, 0.80, 0.90]\n",
    "f1_score_list = []\n",
    "for threshold in threshold_list:\n",
    "    y_pred_bool = [1 if x[0] >= threshold else 0 for x in y_pred]\n",
    "    f1_score_list.append({\"threshold\": threshold, \"f1\": f1_score(y, y_pred_bool), \"accuracy\": accuracy_score(y, y_pred_bool)})\n",
    "\n",
    "pd.DataFrame(f1_score_list)\n"
   ]
  },
  {
   "cell_type": "code",
   "execution_count": null,
   "id": "10c3acc9",
   "metadata": {},
   "outputs": [],
   "source": [
    "# creating submission csv\n",
    "submission_data = pd.read_csv(\"data/test.csv\")\n",
    "pred = classifier_model.predict(np.array(remove_links_from_list(list(submission_data[\"text\"]))))\n",
    "submission_target = [1 if x[0]>0.6 else 0 for x in pred]\n",
    "submission = pd.DataFrame({\"id\":list(submission_data[\"id\"]), \"target\":submission_target})\n",
    "submission.to_csv(\"submissions/submission.csv\", index=False)"
   ]
  },
  {
   "cell_type": "markdown",
   "id": "71aabbc7",
   "metadata": {},
   "source": [
    "#### Result and Conclusion"
   ]
  },
  {
   "cell_type": "markdown",
   "id": "2e8a43b2",
   "metadata": {},
   "source": [
    "- Acheived 0.83021 F1 score on test set.\n",
    "- Preprocessing (ie removing # or links) didn't provide any performance gains.\n",
    "- Adding hidden layers after the pre-trained model didn't improve performance; a single neuron proved most effective.\n",
    "- Increasing dropout rates didn't lead to any performance gains.\n",
    "- Implementing early stopping was vital in preventing overfitting and improving generalization.\n",
    "- Fine-tuning the prediction threshold was necessary to accurately classify true disaster tweets.\n",
    "\n",
    "- For future improvements, I could try bigger pretrained models namely llama, gemma etc."
   ]
  }
 ],
 "metadata": {
  "kernelspec": {
   "display_name": ".venv",
   "language": "python",
   "name": "python3"
  },
  "language_info": {
   "codemirror_mode": {
    "name": "ipython",
    "version": 3
   },
   "file_extension": ".py",
   "mimetype": "text/x-python",
   "name": "python",
   "nbconvert_exporter": "python",
   "pygments_lexer": "ipython3",
   "version": "3.12.3"
  }
 },
 "nbformat": 4,
 "nbformat_minor": 5
}
